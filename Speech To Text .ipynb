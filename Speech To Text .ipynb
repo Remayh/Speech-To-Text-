{
 "cells": [
  {
   "cell_type": "code",
   "execution_count": 14,
   "id": "9f9c4131",
   "metadata": {
    "scrolled": true
   },
   "outputs": [
    {
     "name": "stdout",
     "output_type": "stream",
     "text": [
      "Requirement already satisfied: ibm_watson in c:\\programdata\\anaconda3\\lib\\site-packages (5.2.2)\n",
      "Requirement already satisfied: ibm-cloud-sdk-core==3.*,>=3.3.6 in c:\\programdata\\anaconda3\\lib\\site-packages (from ibm_watson) (3.10.1)\n",
      "Requirement already satisfied: websocket-client==1.1.0 in c:\\programdata\\anaconda3\\lib\\site-packages (from ibm_watson) (1.1.0)\n",
      "Requirement already satisfied: requests<3.0,>=2.0 in c:\\programdata\\anaconda3\\lib\\site-packages (from ibm_watson) (2.25.1)\n",
      "Requirement already satisfied: python-dateutil>=2.5.3 in c:\\programdata\\anaconda3\\lib\\site-packages (from ibm_watson) (2.8.1)\n",
      "Requirement already satisfied: PyJWT<3.0.0,>=2.0.1 in c:\\programdata\\anaconda3\\lib\\site-packages (from ibm-cloud-sdk-core==3.*,>=3.3.6->ibm_watson) (2.1.0)\n",
      "Requirement already satisfied: six>=1.5 in c:\\programdata\\anaconda3\\lib\\site-packages (from python-dateutil>=2.5.3->ibm_watson) (1.15.0)\n",
      "Requirement already satisfied: chardet<5,>=3.0.2 in c:\\programdata\\anaconda3\\lib\\site-packages (from requests<3.0,>=2.0->ibm_watson) (4.0.0)\n",
      "Requirement already satisfied: idna<3,>=2.5 in c:\\programdata\\anaconda3\\lib\\site-packages (from requests<3.0,>=2.0->ibm_watson) (2.10)\n",
      "Requirement already satisfied: urllib3<1.27,>=1.21.1 in c:\\programdata\\anaconda3\\lib\\site-packages (from requests<3.0,>=2.0->ibm_watson) (1.26.4)\n",
      "Requirement already satisfied: certifi>=2017.4.17 in c:\\programdata\\anaconda3\\lib\\site-packages (from requests<3.0,>=2.0->ibm_watson) (2020.12.5)\n"
     ]
    }
   ],
   "source": [
    "!  pip3 install ibm_watson"
   ]
  },
  {
   "cell_type": "code",
   "execution_count": 15,
   "id": "2ba07c1b",
   "metadata": {},
   "outputs": [],
   "source": [
    "from ibm_watson import SpeechToTextV1\n",
    "from ibm_cloud_sdk_core.authenticators import IAMAuthenticator\n"
   ]
  },
  {
   "cell_type": "code",
   "execution_count": 16,
   "id": "7c8ef24c",
   "metadata": {},
   "outputs": [],
   "source": [
    "apikey='hXPrBr2YmbRrdy93u8cDsXZ3f_4lR779DfC_oNrnHF0_'\n",
    "url='https://api.eu-gb.speech-to-text.watson.cloud.ibm.com/instances/a7f8b8b1-dec0-492a-a719-5515364e1f59'"
   ]
  },
  {
   "cell_type": "code",
   "execution_count": 17,
   "id": "db19a29a",
   "metadata": {},
   "outputs": [],
   "source": [
    "# Setup service \n",
    "authenticator = IAMAuthenticator(apikey)\n",
    "stt = SpeechToTextV1(authenticator=authenticator)\n",
    "stt.set_service_url(url)"
   ]
  },
  {
   "cell_type": "code",
   "execution_count": 18,
   "id": "e62209c6",
   "metadata": {},
   "outputs": [],
   "source": [
    "with open ('SSt.mp3','rb')as f: res =stt.recognize(audio=f ,content_type='audio/mp3',model='en-US_NarrowbandModel',continuous=True ).get_result()"
   ]
  },
  {
   "cell_type": "code",
   "execution_count": 19,
   "id": "66872986",
   "metadata": {},
   "outputs": [
    {
     "data": {
      "text/plain": [
       "{'result_index': 0,\n",
       " 'results': [{'final': True,\n",
       "   'alternatives': [{'transcript': 'hello how can I help you ',\n",
       "     'confidence': 0.99}]}]}"
      ]
     },
     "execution_count": 19,
     "metadata": {},
     "output_type": "execute_result"
    }
   ],
   "source": [
    "res"
   ]
  },
  {
   "cell_type": "code",
   "execution_count": 20,
   "id": "a8b2b001",
   "metadata": {},
   "outputs": [
    {
     "data": {
      "text/plain": [
       "'hello how can I help you '"
      ]
     },
     "execution_count": 20,
     "metadata": {},
     "output_type": "execute_result"
    }
   ],
   "source": [
    "text=res['results'][0]['alternatives'][0]['transcript']\n",
    "text"
   ]
  },
  {
   "cell_type": "code",
   "execution_count": 22,
   "id": "622142b7",
   "metadata": {},
   "outputs": [
    {
     "data": {
      "text/plain": [
       "0.99"
      ]
     },
     "execution_count": 22,
     "metadata": {},
     "output_type": "execute_result"
    }
   ],
   "source": [
    " confidence=res['results'][0]['alternatives'][0]['confidence']\n",
    "confidence "
   ]
  },
  {
   "cell_type": "code",
   "execution_count": 23,
   "id": "7e733df1",
   "metadata": {},
   "outputs": [],
   "source": [
    "with open ('output.txt','w')as out: out.writelines(text)"
   ]
  },
  {
   "cell_type": "code",
   "execution_count": 24,
   "id": "d3ffc765",
   "metadata": {},
   "outputs": [],
   "source": [
    "with open ('SSt.mp3','rb')as f: res =stt.recognize(audio=f ,content_type='audio/mp3',model='en-US_NarrowbandModel',continuous=True ).get_result()"
   ]
  },
  {
   "cell_type": "code",
   "execution_count": 25,
   "id": "6877a624",
   "metadata": {},
   "outputs": [
    {
     "data": {
      "text/plain": [
       "{'result_index': 0,\n",
       " 'results': [{'final': True,\n",
       "   'alternatives': [{'transcript': 'hello how can I help you ',\n",
       "     'confidence': 0.99}]}]}"
      ]
     },
     "execution_count": 25,
     "metadata": {},
     "output_type": "execute_result"
    }
   ],
   "source": [
    "res"
   ]
  },
  {
   "cell_type": "code",
   "execution_count": null,
   "id": "211b50ec",
   "metadata": {},
   "outputs": [],
   "source": []
  }
 ],
 "metadata": {
  "kernelspec": {
   "display_name": "Python 3",
   "language": "python",
   "name": "python3"
  },
  "language_info": {
   "codemirror_mode": {
    "name": "ipython",
    "version": 3
   },
   "file_extension": ".py",
   "mimetype": "text/x-python",
   "name": "python",
   "nbconvert_exporter": "python",
   "pygments_lexer": "ipython3",
   "version": "3.8.8"
  }
 },
 "nbformat": 4,
 "nbformat_minor": 5
}
